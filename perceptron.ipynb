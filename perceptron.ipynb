{
 "metadata": {
  "language_info": {
   "codemirror_mode": {
    "name": "ipython",
    "version": 3
   },
   "file_extension": ".py",
   "mimetype": "text/x-python",
   "name": "python",
   "nbconvert_exporter": "python",
   "pygments_lexer": "ipython3",
   "version": "3.7.3-final"
  },
  "orig_nbformat": 2,
  "kernelspec": {
   "name": "python3",
   "display_name": "Python 3"
  }
 },
 "nbformat": 4,
 "nbformat_minor": 2,
 "cells": [
  {
   "source": [
    "# Online Shoppers Intention dataset (Perceptron)\n",
    "Predicting Online Shoppers Purchasing Intention Using a simple neural network build using keras:"
   ],
   "cell_type": "markdown",
   "metadata": {}
  },
  {
   "cell_type": "code",
   "execution_count": 1,
   "metadata": {},
   "outputs": [],
   "source": [
    "import numpy as np\n",
    "import pandas as pd\n",
    "from sklearn.impute import SimpleImputer"
   ]
  },
  {
   "cell_type": "code",
   "execution_count": 9,
   "metadata": {},
   "outputs": [],
   "source": [
    "data = pd.read_csv(\"Online-shoppers-intention.csv\")"
   ]
  },
  {
   "cell_type": "code",
   "execution_count": 10,
   "metadata": {},
   "outputs": [],
   "source": [
    "# Convert booleans value of Weekend and revenue to int 0,1 with pandas astype()\n",
    "data[[\"Weekend\", \"Revenue\"]] = data[[\"Weekend\", \"Revenue\"]] .values.astype(int)\n",
    "\n",
    "# For string values of visitors type and months\n",
    "# For string visitor type \n",
    "data[\"VisitorType\"] = np.asarray([1 if val == \"Returning_Visitor\" else 0 for val in data[\"VisitorType\"].values])"
   ]
  },
  {
   "cell_type": "code",
   "execution_count": 11,
   "metadata": {},
   "outputs": [
    {
     "output_type": "execute_result",
     "data": {
      "text/plain": [
       "Homepage              0\n",
       "Homepage _Duration    0\n",
       "Aboutus               0\n",
       "Aboutus_Duration      0\n",
       "Contactus             0\n",
       "Contactus_Duration    0\n",
       "BounceRates           0\n",
       "ExitRates             0\n",
       "PageValues            0\n",
       "SpecialDay            0\n",
       "Month                 0\n",
       "OperatingSystems      0\n",
       "Browser               0\n",
       "Province              0\n",
       "TrafficType           0\n",
       "VisitorType           0\n",
       "Weekend               0\n",
       "Revenue               0\n",
       "dtype: int64"
      ]
     },
     "metadata": {},
     "execution_count": 11
    }
   ],
   "source": [
    "# handling missing data points\n",
    "data.isnull().sum()"
   ]
  },
  {
   "cell_type": "code",
   "execution_count": 13,
   "metadata": {},
   "outputs": [],
   "source": [
    "# All data column should have minimum value of 0 normalization for all such data\n",
    "def normalization(column):\n",
    "    data[column] = np.asfarray((data[column])/float(max(data[column]) * 0.99) + 0.01)"
   ]
  },
  {
   "cell_type": "code",
   "execution_count": 14,
   "metadata": {},
   "outputs": [],
   "source": [
    "# bringing revenue column to first\n",
    "column_list = data.columns.tolist()\n",
    "column_list.insert(0, column_list[-1])\n",
    "column_list.pop()\n",
    "data = data[column_list]"
   ]
  },
  {
   "cell_type": "code",
   "execution_count": 15,
   "metadata": {},
   "outputs": [],
   "source": [
    "# Split the data for training and test (15% for testing) using sktlearn inbuild method\n",
    "from sklearn.model_selection import train_test_split\n",
    "\n",
    "shoppers_train, shoppers_test = train_test_split(data, test_size = 0.15)\n",
    "shoppers_train.to_csv(r\"shoppers_train.csv\", index = None, header = True)\n",
    "shoppers_test.to_csv(r\"shoppers_test.csv\", index = None, header = True)\n"
   ]
  },
  {
   "cell_type": "code",
   "execution_count": 16,
   "metadata": {},
   "outputs": [
    {
     "output_type": "stream",
     "name": "stdout",
     "text": [
      "(10480, 17) (10480,)\n"
     ]
    }
   ],
   "source": [
    "x_train = shoppers_train.iloc[:,1:]\n",
    "y_train = shoppers_train.iloc[:,0]\n",
    "print(x_train.shape, y_train.shape)"
   ]
  },
  {
   "cell_type": "code",
   "execution_count": 17,
   "metadata": {},
   "outputs": [],
   "source": [
    "class NeuralNetwork():\n",
    "    def __init__(self, inputnodes, hiddennodes, outputnodes, learningrate):\n",
    "\n",
    "        self.inputnodes = inputnodes\n",
    "        self.outputputnodes = outputnodes\n",
    "        self.hiddennodes = hiddennodes\n",
    "\n",
    "        self.learningrate = learningrate\n",
    "        # sigmoid function\n",
    "        # self.activation_function = lambda x: scipy.special.expit(x)\n",
    "\n",
    "        # weight for both synopsys\n",
    "        self.w_input_hidden = (np.random.rand(self.hiddennodes, self.inputnodes) - 0.5)\n",
    "        self.w_hidden_output = (np.random.rand(self.outputputnodes, self.hiddennodes) - 0.5)\n",
    "        \n",
    "    def sigmoid(self, x):\n",
    "        return 1/(1 + np.exp(-x))\n",
    "\n",
    "    def sigmoid_derivative(self, x):\n",
    "        a =  x * (1-x)\n",
    "        # print(\"In sigmoid derivative\",a)\n",
    "        return a\n",
    "\n",
    "    def train(self, input_list, target_list, training_iterations):\n",
    "        for iteration in range(training_iterations):\n",
    "            inputs = np.array(input_list, ndmin = 2).T\n",
    "            targets = np.array(target_list, ndmin = 2).T\n",
    "\n",
    "            hidden_outputs = self.sigmoid(np.dot(self.w_input_hidden, inputs))\n",
    "            # print(\"Hidden output is\", hidden_outputs)\n",
    "\n",
    "            final_outputs = self.sigmoid(np.dot(self.w_hidden_output, hidden_outputs))\n",
    "            # print(\"FInal output is\", final_outputs)\n",
    "\n",
    "            outputs_error = targets.T - final_outputs\n",
    "            # print(\"Main output erroe\",outputs_error)\n",
    "            hidden_errors = np.dot(self.w_hidden_output.T, outputs_error)\n",
    "            # print(\"Main hidden erroe\",hidden_errors)\n",
    "\n",
    " \n",
    "            adjustment = self.learningrate * np.dot((outputs_error * self.sigmoid_derivative(final_outputs)), hidden_outputs.T)\n",
    "            self.w_hidden_output += adjustment\n",
    "\n",
    "            self.w_input_hidden += self.learningrate * np.dot((hidden_errors * hidden_outputs * (1.0 - hidden_outputs)), np.transpose(inputs))\n",
    "\n",
    "        return final_outputs\n"
   ]
  },
  {
   "cell_type": "code",
   "execution_count": 18,
   "metadata": {},
   "outputs": [],
   "source": [
    "input_nodes = 17\n",
    "hidden_nodes = 8\n",
    "output_nodes = 1\n",
    "\n",
    "learning_rate = 0.1\n",
    "\n",
    "n = NeuralNetwork(input_nodes, hidden_nodes, output_nodes, learning_rate)"
   ]
  },
  {
   "cell_type": "code",
   "execution_count": 19,
   "metadata": {},
   "outputs": [],
   "source": [
    "# print(n.train(x_train, y_train,1000))"
   ]
  },
  {
   "cell_type": "code",
   "execution_count": 20,
   "metadata": {},
   "outputs": [
    {
     "output_type": "stream",
     "name": "stdout",
     "text": [
      "[[0.39798377]]\n"
     ]
    }
   ],
   "source": [
    "\n",
    "inp = [0,0,0,0,1,0,0.2,0.2,0,0,2,1,1,1,1,1,0]\n",
    "out = [0] \n",
    "\n",
    "print(n.train(inp, out,1))\n"
   ]
  },
  {
   "cell_type": "code",
   "execution_count": null,
   "metadata": {},
   "outputs": [],
   "source": []
  }
 ]
}