{
 "metadata": {
  "language_info": {
   "codemirror_mode": {
    "name": "ipython",
    "version": 3
   },
   "file_extension": ".py",
   "mimetype": "text/x-python",
   "name": "python",
   "nbconvert_exporter": "python",
   "pygments_lexer": "ipython3",
   "version": "3.7.3-final"
  },
  "orig_nbformat": 2,
  "kernelspec": {
   "name": "python3",
   "display_name": "Python 3"
  }
 },
 "nbformat": 4,
 "nbformat_minor": 2,
 "cells": [
  {
   "source": [
    "# Online Shoppers Intention dataset"
   ],
   "cell_type": "markdown",
   "metadata": {}
  },
  {
   "cell_type": "code",
   "execution_count": 6,
   "metadata": {},
   "outputs": [],
   "source": [
    "import numpy as np\n",
    "import pandas as pd\n",
    "from tensorflow.keras import Sequential\n",
    "from keras.layers import Dense, Dropout\n",
    "from sklearn.model_selection import train_test_split"
   ]
  },
  {
   "cell_type": "code",
   "execution_count": 7,
   "metadata": {},
   "outputs": [],
   "source": [
    "# import the data set through pandas read_csv\n",
    "data = pd.read_csv(\"Online-shoppers-intention.csv\")"
   ]
  },
  {
   "cell_type": "code",
   "execution_count": 8,
   "metadata": {},
   "outputs": [],
   "source": [
    "# Convert booleans value of Weekend and revenue to int 0,1 with pandas astype()\n",
    "data[[\"Weekend\", \"Revenue\"]] = data[[\"Weekend\", \"Revenue\"]] .values.astype(int)\n",
    "\n",
    "# For string values of visitors type and months\n",
    "# For string visitor type \n",
    "data[\"VisitorType\"] = np.asarray([1 if val == \"Returning_Visitor\" else 0 for val in data[\"VisitorType\"].values])"
   ]
  },
  {
   "cell_type": "code",
   "execution_count": 9,
   "metadata": {},
   "outputs": [],
   "source": [
    "# All data column should have minimum value of 0 normalization for all such data\n",
    "def normalization(column):\n",
    "    data[column] = np.asfarray((data[column])/float(max(data[column]) * 0.99) + 0.01)"
   ]
  },
  {
   "cell_type": "code",
   "execution_count": 10,
   "metadata": {},
   "outputs": [
    {
     "output_type": "execute_result",
     "data": {
      "text/plain": [
       "   Homepage  Homepage _Duration  Aboutus  Aboutus_Duration  Contactus  \\\n",
       "0       0.0            0.000000      0.0           0.00000        1.0   \n",
       "1       0.0            0.000000      0.0           0.00000        2.0   \n",
       "2       0.0           81.126229      0.0          34.60178        1.0   \n",
       "3       0.0            0.000000      0.0           0.00000        2.0   \n",
       "4       0.0            0.000000      0.0           0.00000       10.0   \n",
       "\n",
       "   Contactus_Duration  BounceRates  ExitRates  PageValues  SpecialDay  Month  \\\n",
       "0            0.000000         0.20       0.20         0.0         0.0    2.0   \n",
       "1           64.000000         0.00       0.10         0.0         0.0    2.0   \n",
       "2         1199.253065         0.20       0.20         0.0         0.0    2.0   \n",
       "3            2.666667         0.05       0.14         0.0         0.0    2.0   \n",
       "4          627.500000         0.02       0.05         0.0         0.0    2.0   \n",
       "\n",
       "   OperatingSystems  Browser  Province  TrafficType  VisitorType  Weekend  \\\n",
       "0               1.0      1.0       1.0          1.0            0      0.0   \n",
       "1               2.0      2.0       1.0          2.0            0      0.0   \n",
       "2               4.0      1.0       9.0          3.0            0      0.0   \n",
       "3               3.0      2.0       2.0          4.0            0      0.0   \n",
       "4               3.0      3.0       1.0          4.0            0      1.0   \n",
       "\n",
       "   Revenue  \n",
       "0      0.0  \n",
       "1      0.0  \n",
       "2      0.0  \n",
       "3      0.0  \n",
       "4      0.0  "
      ],
      "text/html": "<div>\n<style scoped>\n    .dataframe tbody tr th:only-of-type {\n        vertical-align: middle;\n    }\n\n    .dataframe tbody tr th {\n        vertical-align: top;\n    }\n\n    .dataframe thead th {\n        text-align: right;\n    }\n</style>\n<table border=\"1\" class=\"dataframe\">\n  <thead>\n    <tr style=\"text-align: right;\">\n      <th></th>\n      <th>Homepage</th>\n      <th>Homepage _Duration</th>\n      <th>Aboutus</th>\n      <th>Aboutus_Duration</th>\n      <th>Contactus</th>\n      <th>Contactus_Duration</th>\n      <th>BounceRates</th>\n      <th>ExitRates</th>\n      <th>PageValues</th>\n      <th>SpecialDay</th>\n      <th>Month</th>\n      <th>OperatingSystems</th>\n      <th>Browser</th>\n      <th>Province</th>\n      <th>TrafficType</th>\n      <th>VisitorType</th>\n      <th>Weekend</th>\n      <th>Revenue</th>\n    </tr>\n  </thead>\n  <tbody>\n    <tr>\n      <th>0</th>\n      <td>0.0</td>\n      <td>0.000000</td>\n      <td>0.0</td>\n      <td>0.00000</td>\n      <td>1.0</td>\n      <td>0.000000</td>\n      <td>0.20</td>\n      <td>0.20</td>\n      <td>0.0</td>\n      <td>0.0</td>\n      <td>2.0</td>\n      <td>1.0</td>\n      <td>1.0</td>\n      <td>1.0</td>\n      <td>1.0</td>\n      <td>0</td>\n      <td>0.0</td>\n      <td>0.0</td>\n    </tr>\n    <tr>\n      <th>1</th>\n      <td>0.0</td>\n      <td>0.000000</td>\n      <td>0.0</td>\n      <td>0.00000</td>\n      <td>2.0</td>\n      <td>64.000000</td>\n      <td>0.00</td>\n      <td>0.10</td>\n      <td>0.0</td>\n      <td>0.0</td>\n      <td>2.0</td>\n      <td>2.0</td>\n      <td>2.0</td>\n      <td>1.0</td>\n      <td>2.0</td>\n      <td>0</td>\n      <td>0.0</td>\n      <td>0.0</td>\n    </tr>\n    <tr>\n      <th>2</th>\n      <td>0.0</td>\n      <td>81.126229</td>\n      <td>0.0</td>\n      <td>34.60178</td>\n      <td>1.0</td>\n      <td>1199.253065</td>\n      <td>0.20</td>\n      <td>0.20</td>\n      <td>0.0</td>\n      <td>0.0</td>\n      <td>2.0</td>\n      <td>4.0</td>\n      <td>1.0</td>\n      <td>9.0</td>\n      <td>3.0</td>\n      <td>0</td>\n      <td>0.0</td>\n      <td>0.0</td>\n    </tr>\n    <tr>\n      <th>3</th>\n      <td>0.0</td>\n      <td>0.000000</td>\n      <td>0.0</td>\n      <td>0.00000</td>\n      <td>2.0</td>\n      <td>2.666667</td>\n      <td>0.05</td>\n      <td>0.14</td>\n      <td>0.0</td>\n      <td>0.0</td>\n      <td>2.0</td>\n      <td>3.0</td>\n      <td>2.0</td>\n      <td>2.0</td>\n      <td>4.0</td>\n      <td>0</td>\n      <td>0.0</td>\n      <td>0.0</td>\n    </tr>\n    <tr>\n      <th>4</th>\n      <td>0.0</td>\n      <td>0.000000</td>\n      <td>0.0</td>\n      <td>0.00000</td>\n      <td>10.0</td>\n      <td>627.500000</td>\n      <td>0.02</td>\n      <td>0.05</td>\n      <td>0.0</td>\n      <td>0.0</td>\n      <td>2.0</td>\n      <td>3.0</td>\n      <td>3.0</td>\n      <td>1.0</td>\n      <td>4.0</td>\n      <td>0</td>\n      <td>1.0</td>\n      <td>0.0</td>\n    </tr>\n  </tbody>\n</table>\n</div>"
     },
     "metadata": {},
     "execution_count": 10
    }
   ],
   "source": [
    "data.head(n=5)"
   ]
  },
  {
   "cell_type": "code",
   "execution_count": 11,
   "metadata": {},
   "outputs": [],
   "source": [
    "# bring revenue column to first\n",
    "column_list = data.columns.tolist()\n",
    "column_list.insert(0, column_list[-1])\n",
    "column_list.pop()\n",
    "data = data[column_list]"
   ]
  },
  {
   "cell_type": "code",
   "execution_count": 12,
   "metadata": {},
   "outputs": [
    {
     "output_type": "stream",
     "name": "stdout",
     "text": [
      "(12330, 17) (12330,)\n"
     ]
    }
   ],
   "source": [
    "# Split the data to output and input\n",
    "input = data.iloc[:,1:]   # all column except the first column\n",
    "output = data.iloc[:,0]   # revenue column as output\n",
    "print(input.shape, output.shape)"
   ]
  },
  {
   "cell_type": "code",
   "execution_count": 13,
   "metadata": {},
   "outputs": [],
   "source": [
    "#split data into test and training data\n",
    "input_train, input_test, output_train, output_test = train_test_split(input, output, test_size = 0.15, random_state = 42)"
   ]
  },
  {
   "cell_type": "code",
   "execution_count": 14,
   "metadata": {},
   "outputs": [],
   "source": [
    "# create model and dense layer one by one specifying activation function\n",
    "# first input layer require input dimension parameter\n",
    "# sigmoid instead of relu for final probabilty between 0 and 1\n",
    "\n",
    "model = Sequential()\n",
    "model.add(Dense(17, input_dim = 17, activation=\"relu\"))\n",
    "model.add(Dense(8, activation=\"relu\"))\n",
    "model.add(Dense(1, activation=\"sigmoid\"))"
   ]
  },
  {
   "cell_type": "code",
   "execution_count": 15,
   "metadata": {},
   "outputs": [],
   "source": [
    "model.compile(loss=\"binary_crossentropy\", optimizer=\"adam\", metrics=['accuracy'])"
   ]
  },
  {
   "cell_type": "code",
   "execution_count": 16,
   "metadata": {},
   "outputs": [
    {
     "output_type": "stream",
     "name": "stdout",
     "text": [
      "Epoch 1/10\n",
      "524/524 [==============================] - 1s 1ms/step - loss: 3.0505 - accuracy: 0.7895 - val_loss: 2.6292 - val_accuracy: 0.8557\n",
      "Epoch 2/10\n",
      "524/524 [==============================] - 0s 684us/step - loss: 1.0130 - accuracy: 0.8487 - val_loss: 5.2064 - val_accuracy: 0.8503\n",
      "Epoch 3/10\n",
      "524/524 [==============================] - 0s 633us/step - loss: 0.7864 - accuracy: 0.8562 - val_loss: 1.9937 - val_accuracy: 0.8535\n",
      "Epoch 4/10\n",
      "524/524 [==============================] - 0s 802us/step - loss: 0.8710 - accuracy: 0.8573 - val_loss: 0.9527 - val_accuracy: 0.8719\n",
      "Epoch 5/10\n",
      "524/524 [==============================] - 0s 640us/step - loss: 0.8977 - accuracy: 0.8573 - val_loss: 0.3905 - val_accuracy: 0.8735\n",
      "Epoch 6/10\n",
      "524/524 [==============================] - 0s 795us/step - loss: 1.0016 - accuracy: 0.8593 - val_loss: 1.3628 - val_accuracy: 0.8730\n",
      "Epoch 7/10\n",
      "524/524 [==============================] - 0s 686us/step - loss: 0.7184 - accuracy: 0.8638 - val_loss: 0.8971 - val_accuracy: 0.8703\n",
      "Epoch 8/10\n",
      "524/524 [==============================] - 0s 721us/step - loss: 0.8900 - accuracy: 0.8547 - val_loss: 1.3776 - val_accuracy: 0.8600\n",
      "Epoch 9/10\n",
      "524/524 [==============================] - 0s 724us/step - loss: 0.6762 - accuracy: 0.8642 - val_loss: 0.4724 - val_accuracy: 0.8557\n",
      "Epoch 10/10\n",
      "524/524 [==============================] - 0s 695us/step - loss: 0.6563 - accuracy: 0.8702 - val_loss: 0.4605 - val_accuracy: 0.8692\n"
     ]
    },
    {
     "output_type": "execute_result",
     "data": {
      "text/plain": [
       "<tensorflow.python.keras.callbacks.History at 0x182422a96a0>"
      ]
     },
     "metadata": {},
     "execution_count": 16
    }
   ],
   "source": [
    "model.fit(input_train, output_train, epochs = 10, batch_size = 20, validation_data = (input_test, output_test))"
   ]
  },
  {
   "cell_type": "code",
   "execution_count": 18,
   "metadata": {},
   "outputs": [
    {
     "output_type": "stream",
     "name": "stdout",
     "text": [
      "1/1 [==============================] - 0s 994us/step - loss: 0.0258 - accuracy: 1.0000\n",
      "\n",
      "accuracy: 100.00%\n"
     ]
    }
   ],
   "source": [
    "# testing with user input\n",
    "inp = [[0,0,0,4,1,0,0.2,0.2,0,0,2,1,1,1,1,1,0]]\n",
    "out = [[0]]\n",
    "\n",
    "scores = model.evaluate(inp, out)\n",
    "print(\"\\n%s: %.2f%%\" %(model.metrics_names[1], scores[1]*100))"
   ]
  },
  {
   "cell_type": "code",
   "execution_count": 19,
   "metadata": {},
   "outputs": [
    {
     "output_type": "stream",
     "name": "stdout",
     "text": [
      "INFO:tensorflow:Assets written to: keras-model\\assets\n"
     ]
    }
   ],
   "source": [
    "model.save('keras-model')"
   ]
  },
  {
   "cell_type": "code",
   "execution_count": null,
   "metadata": {},
   "outputs": [],
   "source": []
  }
 ]
}