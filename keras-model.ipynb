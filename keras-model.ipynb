{
 "metadata": {
  "language_info": {
   "codemirror_mode": {
    "name": "ipython",
    "version": 3
   },
   "file_extension": ".py",
   "mimetype": "text/x-python",
   "name": "python",
   "nbconvert_exporter": "python",
   "pygments_lexer": "ipython3",
   "version": "3.7.3-final"
  },
  "orig_nbformat": 2,
  "kernelspec": {
   "name": "python3",
   "display_name": "Python 3"
  }
 },
 "nbformat": 4,
 "nbformat_minor": 2,
 "cells": [
  {
   "source": [
    "# Online Shoppers Intention dataset"
   ],
   "cell_type": "markdown",
   "metadata": {}
  },
  {
   "cell_type": "code",
   "execution_count": 2,
   "metadata": {},
   "outputs": [],
   "source": [
    "import numpy as np\n",
    "import pandas as pd\n",
    "from tensorflow.keras import Sequential\n",
    "from keras.layers import Dense, Dropout\n",
    "from sklearn.model_selection import train_test_split"
   ]
  },
  {
   "cell_type": "code",
   "execution_count": 3,
   "metadata": {},
   "outputs": [],
   "source": [
    "# import the data set through pandas read_csv\n",
    "data = pd.read_csv(\"Online-shoppers-intention.csv\")"
   ]
  },
  {
   "cell_type": "code",
   "execution_count": 4,
   "metadata": {},
   "outputs": [],
   "source": [
    "# Convert booleans value of Weekend and revenue to int 0,1 with pandas astype()\n",
    "data[[\"Weekend\", \"Revenue\"]] = data[[\"Weekend\", \"Revenue\"]] .values.astype(int)\n",
    "\n",
    "# For string values of visitors type and months\n",
    "# For string visitor type \n",
    "data[\"VisitorType\"] = np.asarray([1 if val == \"Returning_Visitor\" else 0 for val in data[\"VisitorType\"].values])"
   ]
  },
  {
   "cell_type": "code",
   "execution_count": 5,
   "metadata": {},
   "outputs": [],
   "source": [
    "# All data column should have minimum value of 0 normalization for all such data\n",
    "def normalization(column):\n",
    "    data[column] = np.asfarray((data[column])/float(max(data[column]) * 0.99) + 0.01)"
   ]
  },
  {
   "cell_type": "code",
   "execution_count": 6,
   "metadata": {},
   "outputs": [
    {
     "output_type": "execute_result",
     "data": {
      "text/plain": [
       "   Homepage  Homepage _Duration  Aboutus  Aboutus_Duration  Contactus  \\\n",
       "0       0.0            0.000000      0.0           0.00000        1.0   \n",
       "1       0.0            0.000000      0.0           0.00000        2.0   \n",
       "2       0.0           81.126229      0.0          34.60178        1.0   \n",
       "3       0.0            0.000000      0.0           0.00000        2.0   \n",
       "4       0.0            0.000000      0.0           0.00000       10.0   \n",
       "\n",
       "   Contactus_Duration  BounceRates  ExitRates  PageValues  SpecialDay  Month  \\\n",
       "0            0.000000         0.20       0.20         0.0         0.0    2.0   \n",
       "1           64.000000         0.00       0.10         0.0         0.0    2.0   \n",
       "2         1199.253065         0.20       0.20         0.0         0.0    2.0   \n",
       "3            2.666667         0.05       0.14         0.0         0.0    2.0   \n",
       "4          627.500000         0.02       0.05         0.0         0.0    2.0   \n",
       "\n",
       "   OperatingSystems  Browser  Province  TrafficType  VisitorType  Weekend  \\\n",
       "0               1.0      1.0       1.0          1.0            0      0.0   \n",
       "1               2.0      2.0       1.0          2.0            0      0.0   \n",
       "2               4.0      1.0       9.0          3.0            0      0.0   \n",
       "3               3.0      2.0       2.0          4.0            0      0.0   \n",
       "4               3.0      3.0       1.0          4.0            0      1.0   \n",
       "\n",
       "   Revenue  \n",
       "0      0.0  \n",
       "1      0.0  \n",
       "2      0.0  \n",
       "3      0.0  \n",
       "4      0.0  "
      ],
      "text/html": "<div>\n<style scoped>\n    .dataframe tbody tr th:only-of-type {\n        vertical-align: middle;\n    }\n\n    .dataframe tbody tr th {\n        vertical-align: top;\n    }\n\n    .dataframe thead th {\n        text-align: right;\n    }\n</style>\n<table border=\"1\" class=\"dataframe\">\n  <thead>\n    <tr style=\"text-align: right;\">\n      <th></th>\n      <th>Homepage</th>\n      <th>Homepage _Duration</th>\n      <th>Aboutus</th>\n      <th>Aboutus_Duration</th>\n      <th>Contactus</th>\n      <th>Contactus_Duration</th>\n      <th>BounceRates</th>\n      <th>ExitRates</th>\n      <th>PageValues</th>\n      <th>SpecialDay</th>\n      <th>Month</th>\n      <th>OperatingSystems</th>\n      <th>Browser</th>\n      <th>Province</th>\n      <th>TrafficType</th>\n      <th>VisitorType</th>\n      <th>Weekend</th>\n      <th>Revenue</th>\n    </tr>\n  </thead>\n  <tbody>\n    <tr>\n      <th>0</th>\n      <td>0.0</td>\n      <td>0.000000</td>\n      <td>0.0</td>\n      <td>0.00000</td>\n      <td>1.0</td>\n      <td>0.000000</td>\n      <td>0.20</td>\n      <td>0.20</td>\n      <td>0.0</td>\n      <td>0.0</td>\n      <td>2.0</td>\n      <td>1.0</td>\n      <td>1.0</td>\n      <td>1.0</td>\n      <td>1.0</td>\n      <td>0</td>\n      <td>0.0</td>\n      <td>0.0</td>\n    </tr>\n    <tr>\n      <th>1</th>\n      <td>0.0</td>\n      <td>0.000000</td>\n      <td>0.0</td>\n      <td>0.00000</td>\n      <td>2.0</td>\n      <td>64.000000</td>\n      <td>0.00</td>\n      <td>0.10</td>\n      <td>0.0</td>\n      <td>0.0</td>\n      <td>2.0</td>\n      <td>2.0</td>\n      <td>2.0</td>\n      <td>1.0</td>\n      <td>2.0</td>\n      <td>0</td>\n      <td>0.0</td>\n      <td>0.0</td>\n    </tr>\n    <tr>\n      <th>2</th>\n      <td>0.0</td>\n      <td>81.126229</td>\n      <td>0.0</td>\n      <td>34.60178</td>\n      <td>1.0</td>\n      <td>1199.253065</td>\n      <td>0.20</td>\n      <td>0.20</td>\n      <td>0.0</td>\n      <td>0.0</td>\n      <td>2.0</td>\n      <td>4.0</td>\n      <td>1.0</td>\n      <td>9.0</td>\n      <td>3.0</td>\n      <td>0</td>\n      <td>0.0</td>\n      <td>0.0</td>\n    </tr>\n    <tr>\n      <th>3</th>\n      <td>0.0</td>\n      <td>0.000000</td>\n      <td>0.0</td>\n      <td>0.00000</td>\n      <td>2.0</td>\n      <td>2.666667</td>\n      <td>0.05</td>\n      <td>0.14</td>\n      <td>0.0</td>\n      <td>0.0</td>\n      <td>2.0</td>\n      <td>3.0</td>\n      <td>2.0</td>\n      <td>2.0</td>\n      <td>4.0</td>\n      <td>0</td>\n      <td>0.0</td>\n      <td>0.0</td>\n    </tr>\n    <tr>\n      <th>4</th>\n      <td>0.0</td>\n      <td>0.000000</td>\n      <td>0.0</td>\n      <td>0.00000</td>\n      <td>10.0</td>\n      <td>627.500000</td>\n      <td>0.02</td>\n      <td>0.05</td>\n      <td>0.0</td>\n      <td>0.0</td>\n      <td>2.0</td>\n      <td>3.0</td>\n      <td>3.0</td>\n      <td>1.0</td>\n      <td>4.0</td>\n      <td>0</td>\n      <td>1.0</td>\n      <td>0.0</td>\n    </tr>\n  </tbody>\n</table>\n</div>"
     },
     "metadata": {},
     "execution_count": 6
    }
   ],
   "source": [
    "data.head(n=5)"
   ]
  },
  {
   "cell_type": "code",
   "execution_count": 7,
   "metadata": {},
   "outputs": [],
   "source": [
    "# bring revenue column to first\n",
    "column_list = data.columns.tolist()\n",
    "column_list.insert(0, column_list[-1])\n",
    "column_list.pop()\n",
    "data = data[column_list]"
   ]
  },
  {
   "cell_type": "code",
   "execution_count": 8,
   "metadata": {},
   "outputs": [
    {
     "output_type": "stream",
     "name": "stdout",
     "text": [
      "(12330, 17) (12330,)\n"
     ]
    }
   ],
   "source": [
    "# Split the data to output and input\n",
    "input = data.iloc[:,1:]   # all column except the first column\n",
    "output = data.iloc[:,0]   # revenue column as output\n",
    "print(input.shape, output.shape)"
   ]
  },
  {
   "cell_type": "code",
   "execution_count": 9,
   "metadata": {},
   "outputs": [],
   "source": [
    "#split data into test and training data\n",
    "input_train, input_test, output_train, output_test = train_test_split(input, output, test_size = 0.15, random_state = 42)"
   ]
  },
  {
   "cell_type": "code",
   "execution_count": 10,
   "metadata": {},
   "outputs": [],
   "source": [
    "# create model and dense layer one by one specifying activation function\n",
    "# first input layer require input dimension parameter\n",
    "# sigmoid instead of relu for final probabilty between 0 and 1\n",
    "\n",
    "model = Sequential()\n",
    "model.add(Dense(17, input_dim = 17, activation=\"relu\"))\n",
    "model.add(Dense(8, activation=\"relu\"))\n",
    "model.add(Dense(1, activation=\"sigmoid\"))"
   ]
  },
  {
   "cell_type": "code",
   "execution_count": 11,
   "metadata": {},
   "outputs": [],
   "source": [
    "model.compile(loss=\"binary_crossentropy\", optimizer=\"adam\", metrics=['accuracy'])"
   ]
  },
  {
   "cell_type": "code",
   "execution_count": 12,
   "metadata": {},
   "outputs": [
    {
     "output_type": "stream",
     "name": "stdout",
     "text": [
      "Epoch 1/10\n",
      "524/524 [==============================] - 1s 2ms/step - loss: 1.0984 - accuracy: 0.8249 - val_loss: 0.6982 - val_accuracy: 0.8649\n",
      "Epoch 2/10\n",
      "524/524 [==============================] - 1s 1ms/step - loss: 0.8192 - accuracy: 0.8574 - val_loss: 1.0451 - val_accuracy: 0.8676\n",
      "Epoch 3/10\n",
      "524/524 [==============================] - 1s 1ms/step - loss: 0.7921 - accuracy: 0.8623 - val_loss: 0.5427 - val_accuracy: 0.8686\n",
      "Epoch 4/10\n",
      "524/524 [==============================] - 1s 994us/step - loss: 0.6327 - accuracy: 0.8619 - val_loss: 0.5248 - val_accuracy: 0.8449\n",
      "Epoch 5/10\n",
      "524/524 [==============================] - 1s 1ms/step - loss: 0.5216 - accuracy: 0.8677 - val_loss: 0.3907 - val_accuracy: 0.8686\n",
      "Epoch 6/10\n",
      "524/524 [==============================] - 1s 3ms/step - loss: 0.6699 - accuracy: 0.8577 - val_loss: 1.2912 - val_accuracy: 0.8595\n",
      "Epoch 7/10\n",
      "524/524 [==============================] - 1s 1ms/step - loss: 0.6168 - accuracy: 0.8677 - val_loss: 0.4510 - val_accuracy: 0.8595\n",
      "Epoch 8/10\n",
      "524/524 [==============================] - 1s 1ms/step - loss: 0.6751 - accuracy: 0.8670 - val_loss: 0.9116 - val_accuracy: 0.8692\n",
      "Epoch 9/10\n",
      "524/524 [==============================] - 1s 2ms/step - loss: 0.5110 - accuracy: 0.8713 - val_loss: 0.4742 - val_accuracy: 0.8416\n",
      "Epoch 10/10\n",
      "524/524 [==============================] - 1s 1ms/step - loss: 0.5022 - accuracy: 0.8681 - val_loss: 0.3469 - val_accuracy: 0.8730\n"
     ]
    },
    {
     "output_type": "execute_result",
     "data": {
      "text/plain": [
       "<tensorflow.python.keras.callbacks.History at 0x188df591278>"
      ]
     },
     "metadata": {},
     "execution_count": 12
    }
   ],
   "source": [
    "model.fit(input_train, output_train, epochs = 10, batch_size = 20, validation_data = (input_test, output_test))"
   ]
  },
  {
   "cell_type": "code",
   "execution_count": 13,
   "metadata": {},
   "outputs": [
    {
     "output_type": "stream",
     "name": "stdout",
     "text": [
      "58/58 [==============================] - 0s 892us/step - loss: 0.3469 - accuracy: 0.8730\n",
      "\n",
      "accuracy: 87.30%\n"
     ]
    }
   ],
   "source": [
    "# testing with user input\n",
    "inp = [[0,0,0,4,1,0,0.2,0.2,0,0,2,1,1,1,1,1,0]]\n",
    "out = [[0]]\n",
    "\n",
    "scores = model.evaluate(input_test, output_test)\n",
    "print(\"\\n%s: %.2f%%\" %(model.metrics_names[1], scores[1]*100))"
   ]
  },
  {
   "cell_type": "code",
   "execution_count": 17,
   "metadata": {},
   "outputs": [],
   "source": [
    "model.save('DeployModel\\keras-model.h5')"
   ]
  },
  {
   "cell_type": "code",
   "execution_count": 15,
   "metadata": {},
   "outputs": [],
   "source": [
    "# from keras.wrappers.scikit_learn import KerasClassifier\n",
    "# y_pred_nn = model.predict_classes(input_test)\n",
    "# print(\"\\n Testing Accuracy of Neural Network: \",round(accuracy(output_test,y_pred_nn),3))"
   ]
  },
  {
   "cell_type": "code",
   "execution_count": 16,
   "metadata": {},
   "outputs": [
    {
     "output_type": "stream",
     "name": "stdout",
     "text": [
      "Model: \"sequential\"\n_________________________________________________________________\nLayer (type)                 Output Shape              Param #   \n=================================================================\ndense (Dense)                (None, 17)                306       \n_________________________________________________________________\ndense_1 (Dense)              (None, 8)                 144       \n_________________________________________________________________\ndense_2 (Dense)              (None, 1)                 9         \n=================================================================\nTotal params: 459\nTrainable params: 459\nNon-trainable params: 0\n_________________________________________________________________\n"
     ]
    }
   ],
   "source": [
    "model.summary()"
   ]
  },
  {
   "cell_type": "code",
   "execution_count": null,
   "metadata": {},
   "outputs": [],
   "source": []
  }
 ]
}